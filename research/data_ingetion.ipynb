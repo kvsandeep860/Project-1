{
 "cells": [
  {
   "cell_type": "code",
   "execution_count": 100,
   "id": "1b0a452b",
   "metadata": {},
   "outputs": [],
   "source": [
    "import os"
   ]
  },
  {
   "cell_type": "code",
   "execution_count": 101,
   "id": "a91ceffd",
   "metadata": {},
   "outputs": [
    {
     "data": {
      "text/plain": [
       "'c:\\\\Users\\\\Public\\\\mycode\\\\PROJECT-1'"
      ]
     },
     "execution_count": 101,
     "metadata": {},
     "output_type": "execute_result"
    }
   ],
   "source": [
    "%pwd"
   ]
  },
  {
   "cell_type": "code",
   "execution_count": 102,
   "id": "5010199a",
   "metadata": {},
   "outputs": [],
   "source": [
    "os.chdir(\"c:\\\\Users\\\\Public\\\\mycode\\\\PROJECT-1\") # Changing my directory to project-1"
   ]
  },
  {
   "cell_type": "code",
   "execution_count": 103,
   "id": "ad525c94",
   "metadata": {},
   "outputs": [
    {
     "data": {
      "text/plain": [
       "'c:\\\\Users\\\\Public\\\\mycode\\\\PROJECT-1'"
      ]
     },
     "execution_count": 103,
     "metadata": {},
     "output_type": "execute_result"
    }
   ],
   "source": [
    "%pwd"
   ]
  },
  {
   "cell_type": "code",
   "execution_count": 104,
   "id": "0514bee8",
   "metadata": {},
   "outputs": [],
   "source": [
    "from dataclasses import dataclass\n",
    "from pathlib import Path\n",
    "\n",
    "@dataclass\n",
    "class DataIngestionconfig:\n",
    "    root_dir:Path\n",
    "    source_url:str\n",
    "    local_data_file:Path\n",
    "    unzip_dir:Path"
   ]
  },
  {
   "cell_type": "code",
   "execution_count": 105,
   "id": "2ef4b39e",
   "metadata": {},
   "outputs": [],
   "source": [
    "from src.datascience.constants import *"
   ]
  },
  {
   "cell_type": "code",
   "execution_count": null,
   "id": "d1d4a404",
   "metadata": {},
   "outputs": [],
   "source": []
  },
  {
   "cell_type": "code",
   "execution_count": 106,
   "id": "90acc5ee",
   "metadata": {},
   "outputs": [],
   "source": [
    "from src.datascience.utils.common import read_yaml, create_directories"
   ]
  },
  {
   "cell_type": "code",
   "execution_count": null,
   "id": "90fc2036",
   "metadata": {},
   "outputs": [],
   "source": [
    "class ConfigurationManager:\n",
    "    def __init__(self,\n",
    "                 config_file_path = CONFIG_FILE_PATH,\n",
    "                 params_file_path = PARAMS_FILE_PATH,\n",
    "                 schema_file_path = SCHEMA_FILE_PATH):\n",
    "        self.config = read_yaml(config_file_path)\n",
    "        self.params = read_yaml(params_file_path)\n",
    "        self.schema = read_yaml(schema_file_path)\n",
    "        \n",
    "        create_directories([self.config.artifacts_root])\n",
    "    \n",
    "    def get_data_ingestion_config(self) -> DataIngestionconfig:\n",
    "        config = self.config.data_ingestion\n",
    "        create_directories([config.root_dir])\n",
    "        \n",
    "        data_ingestion_config = DataIngestionconfig(\n",
    "            root_dir = config.root_dir,\n",
    "            source_url = config.source_url, \n",
    "            local_data_file = config.local_data_file,\n",
    "            unzip_dir = config.unzip_dir\n",
    "        )\n",
    "        return data_ingestion_config\n",
    "        "
   ]
  },
  {
   "cell_type": "code",
   "execution_count": 108,
   "id": "0acd4ddb",
   "metadata": {},
   "outputs": [],
   "source": [
    "import os\n",
    "import urllib.request as request\n",
    "from src.datascience import logger\n",
    "import zipfile"
   ]
  },
  {
   "cell_type": "code",
   "execution_count": 109,
   "id": "f920e80e",
   "metadata": {},
   "outputs": [],
   "source": [
    "class DataIngestion:\n",
    "    def __init__(self, config: \"DataIngestionconfig\"):  # Assuming you have a config class\n",
    "        self.config = config\n",
    "        \n",
    "    def download_file(self):\n",
    "        if not os.path.exists(self.config.local_data_file):\n",
    "            filename, headers = request.urlretrieve(\n",
    "                url=self.config.source_url,\n",
    "                filename=self.config.local_data_file\n",
    "            )\n",
    "            logger.info(f\"{filename} downloaded! with following info:\\n{headers}\")\n",
    "        else:\n",
    "            logger.info(f\"File already exists at {self.config.local_data_file}\")\n",
    "    \n",
    "    def extract_zip_file(self):\n",
    "        unzip_path = self.config.unzip_dir\n",
    "        os.makedirs(unzip_path, exist_ok=True)\n",
    "        with zipfile.ZipFile(self.config.local_data_file, 'r') as zip_ref:\n",
    "            zip_ref.extractall(unzip_path)\n",
    "            logger.info(f\"Extracted {self.config.local_data_file} to {unzip_path}\")"
   ]
  },
  {
   "cell_type": "code",
   "execution_count": 110,
   "id": "8d61c7d6",
   "metadata": {},
   "outputs": [
    {
     "name": "stdout",
     "output_type": "stream",
     "text": [
      "[2025-10-02 15:51:22,314:INFO:common:yaml file: config\\config.yaml loaded successfully]\n",
      "[2025-10-02 15:51:22,316:INFO:common:yaml file: params.yaml loaded successfully]\n",
      "[2025-10-02 15:51:22,318:INFO:common:yaml file: schema.yaml loaded successfully]\n",
      "[2025-10-02 15:51:22,319:INFO:common:created directory at: artifacts]\n",
      "[2025-10-02 15:51:22,321:INFO:common:created directory at: artifacts/data_ingestion]\n",
      "[2025-10-02 15:51:23,532:INFO:2396004329:artifacts/data_ingestion/data.zip downloaded! with following info:\n",
      "Connection: close\n",
      "Content-Length: 23329\n",
      "Cache-Control: max-age=300\n",
      "Content-Security-Policy: default-src 'none'; style-src 'unsafe-inline'; sandbox\n",
      "Content-Type: application/zip\n",
      "ETag: \"c69888a4ae59bc5a893392785a938ccd4937981c06ba8a9d6a21aa52b4ab5b6e\"\n",
      "Strict-Transport-Security: max-age=31536000\n",
      "X-Content-Type-Options: nosniff\n",
      "X-Frame-Options: deny\n",
      "X-XSS-Protection: 1; mode=block\n",
      "X-GitHub-Request-Id: 2C98:54918:AF6D0:1BE07F:68DE521E\n",
      "Accept-Ranges: bytes\n",
      "Date: Thu, 02 Oct 2025 10:21:22 GMT\n",
      "Via: 1.1 varnish\n",
      "X-Served-By: cache-hyd1100031-HYD\n",
      "X-Cache: MISS\n",
      "X-Cache-Hits: 0\n",
      "X-Timer: S1759400482.390873,VS0,VE345\n",
      "Vary: Authorization,Accept-Encoding\n",
      "Access-Control-Allow-Origin: *\n",
      "Cross-Origin-Resource-Policy: cross-origin\n",
      "X-Fastly-Request-ID: 71dfa765b2f82ed8ff0784734504d9c15e64f65c\n",
      "Expires: Thu, 02 Oct 2025 10:26:22 GMT\n",
      "Source-Age: 0\n",
      "\n",
      "]\n",
      "[2025-10-02 15:51:23,560:INFO:2396004329:Extracted artifacts/data_ingestion/data.zip to artifacts/data_ingestion]\n"
     ]
    }
   ],
   "source": [
    "try:\n",
    "    config = ConfigurationManager()\n",
    "    data_ingestion_config = config.get_data_ingestion_config()\n",
    "    data_ingestion = DataIngestion(config=data_ingestion_config)\n",
    "    data_ingestion.download_file()\n",
    "    data_ingestion.extract_zip_file()\n",
    "except Exception as e:\n",
    "    raise e"
   ]
  },
  {
   "cell_type": "code",
   "execution_count": null,
   "id": "1e3d12ad",
   "metadata": {},
   "outputs": [],
   "source": []
  },
  {
   "cell_type": "code",
   "execution_count": null,
   "id": "0e4ce6e1",
   "metadata": {},
   "outputs": [],
   "source": []
  }
 ],
 "metadata": {
  "kernelspec": {
   "display_name": "Python 3",
   "language": "python",
   "name": "python3"
  },
  "language_info": {
   "codemirror_mode": {
    "name": "ipython",
    "version": 3
   },
   "file_extension": ".py",
   "mimetype": "text/x-python",
   "name": "python",
   "nbconvert_exporter": "python",
   "pygments_lexer": "ipython3",
   "version": "3.10.0"
  }
 },
 "nbformat": 4,
 "nbformat_minor": 5
}
